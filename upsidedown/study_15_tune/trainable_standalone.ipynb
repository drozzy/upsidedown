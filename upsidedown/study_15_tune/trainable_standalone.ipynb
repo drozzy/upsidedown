{
 "cells": [
  {
   "cell_type": "code",
   "execution_count": 32,
   "metadata": {},
   "outputs": [
    {
     "name": "stdout",
     "output_type": "stream",
     "text": [
      "Begining Exploration.\n",
      "Begining Updates.\n",
      "Begining Eval.\n"
     ]
    }
   ],
   "source": [
    "from lunar_lander_trainable import LunarLanderTrainable\n",
    "\n",
    "config = {'batch_size': 1, 'n_episodes_per_iter': 1, 'n_updates_per_iter': 1}\n",
    "\n",
    "l = LunarLanderTrainable(config=config)\n",
    "\n",
    "r = l.train()"
   ]
  },
  {
   "cell_type": "code",
   "execution_count": 33,
   "metadata": {
    "scrolled": true
   },
   "outputs": [
    {
     "data": {
      "text/plain": [
       "{'Exploration/dr': 0,\n",
       " 'Exploration/dh': 1,\n",
       " 'Exploration/reward_mean': -491.5746151749461,\n",
       " 'Exploration/length_mean': 86.0,\n",
       " 'Exploration/steps': 86,\n",
       " 'timesteps_this_iter': 86,\n",
       " 'Updates/mean_loss': 1.2522457838058472,\n",
       " 'mean_loss': 1.2522457838058472,\n",
       " 'Eval/dr': -491.5746151749461,\n",
       " 'Eval/dh': 86.0,\n",
       " 'Eval/reward_mean': -188.99602726631608,\n",
       " 'Eval/length_mean': 91.6,\n",
       " 'episode_reward_mean': -188.99602726631608,\n",
       " 'done': False,\n",
       " 'Buffer/reward_mean': -491.5746151749461,\n",
       " 'Buffer/reward_std': 0.0,\n",
       " 'Buffer/last_few_reward_mean': -491.5746151749461,\n",
       " 'Buffer/last_few_reward_std': 0.0,\n",
       " 'Buffer/length_mean': 86.0,\n",
       " 'Buffer/length_std': 0.0,\n",
       " 'Buffer/last_few_length_mean': 86.0,\n",
       " 'Buffer/last_few_length_std': 0.0,\n",
       " 'Params/lr': 0.001,\n",
       " 'Params/last_few': 10,\n",
       " 'Params/epsilon': 0.0,\n",
       " 'timesteps_total': 86,\n",
       " 'episodes_total': None,\n",
       " 'training_iteration': 1,\n",
       " 'neg_mean_loss': -1.2522457838058472,\n",
       " 'experiment_id': 'b53f13afd9ca4c3d94f1c4c6ab364610',\n",
       " 'date': '2020-01-22_18-27-08',\n",
       " 'timestamp': 1579735628,\n",
       " 'time_this_iter_s': 1.889326572418213,\n",
       " 'time_total_s': 1.889326572418213,\n",
       " 'pid': 1806,\n",
       " 'hostname': 'whitelinux',\n",
       " 'node_ip': '192.168.7.148',\n",
       " 'config': {'env_name': 'LunarLander-v2',\n",
       "  'num_stack': 10,\n",
       "  'hidden_size': 32,\n",
       "  'epsilon': 0.0,\n",
       "  'epsilon_decay': 100000,\n",
       "  'return_scale': 0.01,\n",
       "  'horizon_scale': 0.001,\n",
       "  'lr': 0.001,\n",
       "  'batch_size': 1,\n",
       "  'solved_min_reward': 200,\n",
       "  'solved_n_episodes': 100,\n",
       "  'max_steps': 1000000,\n",
       "  'replay_size': 80,\n",
       "  'n_episodes_per_iter': 1,\n",
       "  'last_few': 10,\n",
       "  'n_updates_per_iter': 1,\n",
       "  'eval_episodes': 10,\n",
       "  'max_return': 300,\n",
       "  'init_dh': 1,\n",
       "  'init_dr': 0,\n",
       "  'render': False},\n",
       " 'time_since_restore': 1.889326572418213,\n",
       " 'timesteps_since_restore': 86,\n",
       " 'iterations_since_restore': 1}"
      ]
     },
     "execution_count": 33,
     "metadata": {},
     "output_type": "execute_result"
    }
   ],
   "source": [
    "r"
   ]
  },
  {
   "cell_type": "code",
   "execution_count": 34,
   "metadata": {
    "scrolled": true
   },
   "outputs": [
    {
     "name": "stdout",
     "output_type": "stream",
     "text": [
      "Begining Exploration.\n",
      "Begining Updates.\n",
      "Begining Eval.\n"
     ]
    }
   ],
   "source": [
    "r2 = l.train()"
   ]
  },
  {
   "cell_type": "code",
   "execution_count": 35,
   "metadata": {
    "scrolled": true
   },
   "outputs": [
    {
     "data": {
      "text/plain": [
       "{'Exploration/dr': -491.5746151749461,\n",
       " 'Exploration/dh': 86.0,\n",
       " 'Exploration/reward_mean': -131.62528404764112,\n",
       " 'Exploration/length_mean': 86.0,\n",
       " 'Exploration/steps': 86,\n",
       " 'timesteps_this_iter': 86,\n",
       " 'Updates/mean_loss': 1.2262309789657593,\n",
       " 'mean_loss': 1.2262309789657593,\n",
       " 'Eval/dr': -131.62528404764112,\n",
       " 'Eval/dh': 86.0,\n",
       " 'Eval/reward_mean': -192.6324163792284,\n",
       " 'Eval/length_mean': 90.6,\n",
       " 'episode_reward_mean': -192.6324163792284,\n",
       " 'done': False,\n",
       " 'Buffer/reward_mean': -131.62528404764112,\n",
       " 'Buffer/reward_std': 0.0,\n",
       " 'Buffer/last_few_reward_mean': -131.62528404764112,\n",
       " 'Buffer/last_few_reward_std': 0.0,\n",
       " 'Buffer/length_mean': 86.0,\n",
       " 'Buffer/length_std': 0.0,\n",
       " 'Buffer/last_few_length_mean': 86.0,\n",
       " 'Buffer/last_few_length_std': 0.0,\n",
       " 'Params/lr': 0.001,\n",
       " 'Params/last_few': 10,\n",
       " 'Params/epsilon': 0.0,\n",
       " 'timesteps_total': 172,\n",
       " 'episodes_total': None,\n",
       " 'training_iteration': 2,\n",
       " 'neg_mean_loss': -1.2262309789657593,\n",
       " 'experiment_id': 'b53f13afd9ca4c3d94f1c4c6ab364610',\n",
       " 'date': '2020-01-22_18-27-10',\n",
       " 'timestamp': 1579735630,\n",
       " 'time_this_iter_s': 1.8925106525421143,\n",
       " 'time_total_s': 3.781837224960327,\n",
       " 'pid': 1806,\n",
       " 'hostname': 'whitelinux',\n",
       " 'node_ip': '192.168.7.148',\n",
       " 'config': {'env_name': 'LunarLander-v2',\n",
       "  'num_stack': 10,\n",
       "  'hidden_size': 32,\n",
       "  'epsilon': 0.0,\n",
       "  'epsilon_decay': 100000,\n",
       "  'return_scale': 0.01,\n",
       "  'horizon_scale': 0.001,\n",
       "  'lr': 0.001,\n",
       "  'batch_size': 1,\n",
       "  'solved_min_reward': 200,\n",
       "  'solved_n_episodes': 100,\n",
       "  'max_steps': 1000000,\n",
       "  'replay_size': 80,\n",
       "  'n_episodes_per_iter': 1,\n",
       "  'last_few': 10,\n",
       "  'n_updates_per_iter': 1,\n",
       "  'eval_episodes': 10,\n",
       "  'max_return': 300,\n",
       "  'init_dh': 1,\n",
       "  'init_dr': 0,\n",
       "  'render': False},\n",
       " 'time_since_restore': 3.781837224960327,\n",
       " 'timesteps_since_restore': 172,\n",
       " 'iterations_since_restore': 2}"
      ]
     },
     "execution_count": 35,
     "metadata": {},
     "output_type": "execute_result"
    }
   ],
   "source": [
    "r2"
   ]
  },
  {
   "cell_type": "code",
   "execution_count": 36,
   "metadata": {},
   "outputs": [
    {
     "data": {
      "text/plain": [
       "172"
      ]
     },
     "execution_count": 36,
     "metadata": {},
     "output_type": "execute_result"
    }
   ],
   "source": [
    "l.steps"
   ]
  },
  {
   "cell_type": "code",
   "execution_count": 43,
   "metadata": {},
   "outputs": [
    {
     "data": {
      "text/plain": [
       "'/home/andriy/ray_results/2020-01-22_18-27-07mdsay9ln/checkpoint_2/checkpoint.pt'"
      ]
     },
     "execution_count": 43,
     "metadata": {},
     "output_type": "execute_result"
    }
   ],
   "source": [
    "p = l.save()\n",
    "p"
   ]
  },
  {
   "cell_type": "code",
   "execution_count": 44,
   "metadata": {},
   "outputs": [],
   "source": [
    "l2 = LunarLanderTrainable()"
   ]
  },
  {
   "cell_type": "code",
   "execution_count": 45,
   "metadata": {},
   "outputs": [
    {
     "data": {
      "text/plain": [
       "0"
      ]
     },
     "execution_count": 45,
     "metadata": {},
     "output_type": "execute_result"
    }
   ],
   "source": [
    "l2.steps"
   ]
  },
  {
   "cell_type": "code",
   "execution_count": 46,
   "metadata": {},
   "outputs": [],
   "source": [
    "l2.restore(p)"
   ]
  },
  {
   "cell_type": "code",
   "execution_count": 47,
   "metadata": {},
   "outputs": [
    {
     "data": {
      "text/plain": [
       "172"
      ]
     },
     "execution_count": 47,
     "metadata": {},
     "output_type": "execute_result"
    }
   ],
   "source": [
    "l2.steps"
   ]
  },
  {
   "cell_type": "code",
   "execution_count": 48,
   "metadata": {},
   "outputs": [],
   "source": [
    "o = l.save_to_object()"
   ]
  },
  {
   "cell_type": "code",
   "execution_count": 49,
   "metadata": {},
   "outputs": [],
   "source": [
    "l3 = LunarLanderTrainable()"
   ]
  },
  {
   "cell_type": "code",
   "execution_count": 50,
   "metadata": {},
   "outputs": [],
   "source": [
    "l3.restore_from_object(o)"
   ]
  },
  {
   "cell_type": "code",
   "execution_count": 51,
   "metadata": {},
   "outputs": [
    {
     "data": {
      "text/plain": [
       "172"
      ]
     },
     "execution_count": 51,
     "metadata": {},
     "output_type": "execute_result"
    }
   ],
   "source": [
    "l3.steps"
   ]
  },
  {
   "cell_type": "code",
   "execution_count": null,
   "metadata": {},
   "outputs": [],
   "source": []
  }
 ],
 "metadata": {
  "kernelspec": {
   "display_name": "Python 3",
   "language": "python",
   "name": "python3"
  },
  "language_info": {
   "codemirror_mode": {
    "name": "ipython",
    "version": 3
   },
   "file_extension": ".py",
   "mimetype": "text/x-python",
   "name": "python",
   "nbconvert_exporter": "python",
   "pygments_lexer": "ipython3",
   "version": "3.7.3"
  }
 },
 "nbformat": 4,
 "nbformat_minor": 2
}
