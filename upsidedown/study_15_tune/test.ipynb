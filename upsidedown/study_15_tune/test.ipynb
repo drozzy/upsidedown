{
 "cells": [
  {
   "cell_type": "code",
   "execution_count": null,
   "metadata": {},
   "outputs": [],
   "source": [
    "# Test running LunarLanderTrainable in a standalone mode, without tune runner\n",
    "from lunar_lander_trainable import LunarLanderTrainable\n",
    "\n",
    "l = LunarLanderTrainable()\n",
    "\n",
    "r = l.train()"
   ]
  },
  {
   "cell_type": "code",
   "execution_count": 3,
   "metadata": {
    "scrolled": true
   },
   "outputs": [
    {
     "data": {
      "text/plain": [
       "{'Exploration/dr': 0,\n",
       " 'Exploration/dh': 1,\n",
       " 'Exploration/reward_mean': -181.644191380516,\n",
       " 'Exploration/length_mean': 92.9625,\n",
       " 'Exploration/steps': 7437,\n",
       " 'timesteps_this_iter': 7437,\n",
       " 'Updates/mean_loss': 1.381432728767395,\n",
       " 'mean_loss': 1.381432728767395,\n",
       " 'Eval/dr': -68.33352119475549,\n",
       " 'Eval/dh': 87.4,\n",
       " 'Eval/reward_mean': -229.82582153009236,\n",
       " 'Eval/length_mean': 93.9,\n",
       " 'episode_reward_mean': -229.82582153009236,\n",
       " 'done': False,\n",
       " 'Buffer/reward_mean': -181.644191380516,\n",
       " 'Buffer/reward_std': 108.43399059123666,\n",
       " 'Buffer/last_few_reward_mean': -48.03146529945612,\n",
       " 'Buffer/last_few_reward_std': 16.14989871323225,\n",
       " 'Buffer/length_mean': 92.9625,\n",
       " 'Buffer/length_std': 20.463042143092995,\n",
       " 'Buffer/last_few_length_mean': 87.4,\n",
       " 'Buffer/last_few_length_std': 22.799999999999997,\n",
       " 'Params/lr': 0.001,\n",
       " 'Params/last_few': 10,\n",
       " 'Params/epsilon': 0.0,\n",
       " 'timesteps_total': 7437,\n",
       " 'episodes_total': None,\n",
       " 'training_iteration': 1,\n",
       " 'neg_mean_loss': -1.381432728767395,\n",
       " 'experiment_id': '0082fc7738064bfa8f67da1531d2c9de',\n",
       " 'date': '2020-01-22_18-06-40',\n",
       " 'timestamp': 1579734400,\n",
       " 'time_this_iter_s': 29.654523849487305,\n",
       " 'time_total_s': 29.654523849487305,\n",
       " 'pid': 1806,\n",
       " 'hostname': 'whitelinux',\n",
       " 'node_ip': '192.168.7.148',\n",
       " 'config': {'env_name': 'LunarLander-v2',\n",
       "  'num_stack': 10,\n",
       "  'hidden_size': 32,\n",
       "  'epsilon': 0.0,\n",
       "  'epsilon_decay': 100000,\n",
       "  'return_scale': 0.01,\n",
       "  'horizon_scale': 0.001,\n",
       "  'lr': 0.001,\n",
       "  'batch_size': 512,\n",
       "  'solved_min_reward': 200,\n",
       "  'solved_n_episodes': 100,\n",
       "  'max_steps': 1000000,\n",
       "  'replay_size': 80,\n",
       "  'n_episodes_per_iter': 80,\n",
       "  'last_few': 10,\n",
       "  'n_updates_per_iter': 50,\n",
       "  'eval_episodes': 10,\n",
       "  'max_return': 300,\n",
       "  'init_dh': 1,\n",
       "  'init_dr': 0,\n",
       "  'render': False},\n",
       " 'time_since_restore': 29.654523849487305,\n",
       " 'timesteps_since_restore': 7437,\n",
       " 'iterations_since_restore': 1}"
      ]
     },
     "execution_count": 3,
     "metadata": {},
     "output_type": "execute_result"
    }
   ],
   "source": [
    "r"
   ]
  },
  {
   "cell_type": "code",
   "execution_count": null,
   "metadata": {
    "scrolled": true
   },
   "outputs": [],
   "source": [
    "r2 = l.train()"
   ]
  },
  {
   "cell_type": "code",
   "execution_count": 5,
   "metadata": {
    "scrolled": true
   },
   "outputs": [
    {
     "data": {
      "text/plain": [
       "{'Exploration/dr': -33.171703534058764,\n",
       " 'Exploration/dh': 87.4,\n",
       " 'Exploration/reward_mean': -184.77928227271207,\n",
       " 'Exploration/length_mean': 90.725,\n",
       " 'Exploration/steps': 7258,\n",
       " 'timesteps_this_iter': 7258,\n",
       " 'Updates/mean_loss': 1.3786132955551147,\n",
       " 'mean_loss': 1.3786132955551147,\n",
       " 'Eval/dr': -84.98493675795,\n",
       " 'Eval/dh': 87.6,\n",
       " 'Eval/reward_mean': -172.3309839566596,\n",
       " 'Eval/length_mean': 85.8,\n",
       " 'episode_reward_mean': -172.3309839566596,\n",
       " 'done': False,\n",
       " 'Buffer/reward_mean': -184.77928227271204,\n",
       " 'Buffer/reward_std': 123.2957080309085,\n",
       " 'Buffer/last_few_reward_mean': -42.7830559204558,\n",
       " 'Buffer/last_few_reward_std': 35.92823735733023,\n",
       " 'Buffer/length_mean': 90.725,\n",
       " 'Buffer/length_std': 19.127189417162157,\n",
       " 'Buffer/last_few_length_mean': 87.6,\n",
       " 'Buffer/last_few_length_std': 27.22939588018801,\n",
       " 'Params/lr': 0.001,\n",
       " 'Params/last_few': 10,\n",
       " 'Params/epsilon': 0.0,\n",
       " 'timesteps_total': 14695,\n",
       " 'episodes_total': None,\n",
       " 'training_iteration': 2,\n",
       " 'neg_mean_loss': -1.3786132955551147,\n",
       " 'experiment_id': '0082fc7738064bfa8f67da1531d2c9de',\n",
       " 'date': '2020-01-22_18-09-03',\n",
       " 'timestamp': 1579734543,\n",
       " 'time_this_iter_s': 26.483091592788696,\n",
       " 'time_total_s': 56.137615442276,\n",
       " 'pid': 1806,\n",
       " 'hostname': 'whitelinux',\n",
       " 'node_ip': '192.168.7.148',\n",
       " 'config': {'env_name': 'LunarLander-v2',\n",
       "  'num_stack': 10,\n",
       "  'hidden_size': 32,\n",
       "  'epsilon': 0.0,\n",
       "  'epsilon_decay': 100000,\n",
       "  'return_scale': 0.01,\n",
       "  'horizon_scale': 0.001,\n",
       "  'lr': 0.001,\n",
       "  'batch_size': 512,\n",
       "  'solved_min_reward': 200,\n",
       "  'solved_n_episodes': 100,\n",
       "  'max_steps': 1000000,\n",
       "  'replay_size': 80,\n",
       "  'n_episodes_per_iter': 80,\n",
       "  'last_few': 10,\n",
       "  'n_updates_per_iter': 50,\n",
       "  'eval_episodes': 10,\n",
       "  'max_return': 300,\n",
       "  'init_dh': 1,\n",
       "  'init_dr': 0,\n",
       "  'render': False},\n",
       " 'time_since_restore': 56.137615442276,\n",
       " 'timesteps_since_restore': 14695,\n",
       " 'iterations_since_restore': 2}"
      ]
     },
     "execution_count": 5,
     "metadata": {},
     "output_type": "execute_result"
    }
   ],
   "source": [
    "r2"
   ]
  },
  {
   "cell_type": "code",
   "execution_count": 15,
   "metadata": {},
   "outputs": [
    {
     "data": {
      "text/plain": [
       "14695"
      ]
     },
     "execution_count": 15,
     "metadata": {},
     "output_type": "execute_result"
    }
   ],
   "source": [
    "l.steps"
   ]
  },
  {
   "cell_type": "code",
   "execution_count": 16,
   "metadata": {},
   "outputs": [
    {
     "data": {
      "text/plain": [
       "'/home/andriy/ray_results/2020-01-22_18-06-09ynt6pjji/checkpoint_2/checkpoint.pt'"
      ]
     },
     "execution_count": 16,
     "metadata": {},
     "output_type": "execute_result"
    }
   ],
   "source": [
    "l.save()"
   ]
  },
  {
   "cell_type": "code",
   "execution_count": 17,
   "metadata": {},
   "outputs": [],
   "source": [
    "l2 = LunarLanderTrainable()"
   ]
  },
  {
   "cell_type": "code",
   "execution_count": 18,
   "metadata": {},
   "outputs": [
    {
     "data": {
      "text/plain": [
       "0"
      ]
     },
     "execution_count": 18,
     "metadata": {},
     "output_type": "execute_result"
    }
   ],
   "source": [
    "l2.steps"
   ]
  },
  {
   "cell_type": "code",
   "execution_count": 19,
   "metadata": {},
   "outputs": [],
   "source": [
    "l2.restore('/home/andriy/ray_results/2020-01-22_18-06-09ynt6pjji/checkpoint_2/checkpoint.pt')"
   ]
  },
  {
   "cell_type": "code",
   "execution_count": 20,
   "metadata": {},
   "outputs": [
    {
     "data": {
      "text/plain": [
       "14695"
      ]
     },
     "execution_count": 20,
     "metadata": {},
     "output_type": "execute_result"
    }
   ],
   "source": [
    "l2.steps"
   ]
  },
  {
   "cell_type": "code",
   "execution_count": 21,
   "metadata": {},
   "outputs": [],
   "source": [
    "o = l.save_to_object()"
   ]
  },
  {
   "cell_type": "code",
   "execution_count": 22,
   "metadata": {},
   "outputs": [],
   "source": [
    "l3 = LunarLanderTrainable()"
   ]
  },
  {
   "cell_type": "code",
   "execution_count": 24,
   "metadata": {},
   "outputs": [],
   "source": [
    "l3.restore_from_object(o)"
   ]
  },
  {
   "cell_type": "code",
   "execution_count": 25,
   "metadata": {},
   "outputs": [
    {
     "data": {
      "text/plain": [
       "14695"
      ]
     },
     "execution_count": 25,
     "metadata": {},
     "output_type": "execute_result"
    }
   ],
   "source": [
    "l3.steps"
   ]
  },
  {
   "cell_type": "code",
   "execution_count": null,
   "metadata": {},
   "outputs": [],
   "source": []
  }
 ],
 "metadata": {
  "kernelspec": {
   "display_name": "Python 3",
   "language": "python",
   "name": "python3"
  },
  "language_info": {
   "codemirror_mode": {
    "name": "ipython",
    "version": 3
   },
   "file_extension": ".py",
   "mimetype": "text/x-python",
   "name": "python",
   "nbconvert_exporter": "python",
   "pygments_lexer": "ipython3",
   "version": "3.7.3"
  }
 },
 "nbformat": 4,
 "nbformat_minor": 2
}
