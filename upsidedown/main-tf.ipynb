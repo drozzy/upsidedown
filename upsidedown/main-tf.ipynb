{
 "cells": [
  {
   "cell_type": "code",
   "execution_count": 24,
   "metadata": {},
   "outputs": [
    {
     "name": "stdout",
     "output_type": "stream",
     "text": [
      "The autoreload extension is already loaded. To reload it, use:\n",
      "  %reload_ext autoreload\n"
     ]
    }
   ],
   "source": [
    "%load_ext autoreload\n",
    "%autoreload 2\n",
    "import gym\n",
    "\n",
    "import numpy as np\n",
    "import random\n",
    "import time\n",
    "import tensorflow as tf\n",
    "import tensorflow_probability as tfp\n",
    "from experiment import rollout_random, ReplayBuffer, Trajectory"
   ]
  },
  {
   "cell_type": "markdown",
   "metadata": {},
   "source": [
    "### A1-1. Initialize replay buffer with warm-up episodes using random actions"
   ]
  },
  {
   "cell_type": "code",
   "execution_count": 25,
   "metadata": {},
   "outputs": [],
   "source": [
    "env = gym.make('CartPole-v1')"
   ]
  },
  {
   "cell_type": "code",
   "execution_count": 26,
   "metadata": {},
   "outputs": [
    {
     "name": "stdout",
     "output_type": "stream",
     "text": [
      "Average Episode Reward: 22.2266\n"
     ]
    }
   ],
   "source": [
    "rb = ReplayBuffer(max_size=5000, last_few=100)\n",
    "avg_reward = rollout_random(num_episodes=5000, env=env, replay_buffer=rb, render=False)\n",
    "\n",
    "print(f\"Average Episode Reward: {avg_reward}\")"
   ]
  },
  {
   "cell_type": "markdown",
   "metadata": {},
   "source": [
    "### A1-2 Initialize a behavior function"
   ]
  },
  {
   "cell_type": "code",
   "execution_count": 27,
   "metadata": {},
   "outputs": [],
   "source": [
    "class Behavior(tf.keras.Model):\n",
    "    def __init__(self, input_shape, num_actions):\n",
    "        super().__init__()        \n",
    "        self.d1 = tf.keras.layers.Dense(512, input_shape=input_shape, activation='relu')\n",
    "        self.d2 = tf.keras.layers.Dense(512, activation='relu')\n",
    "        self.d3 = tf.keras.layers.Dense(512, activation='relu')\n",
    "        self.d4 = tf.keras.layers.Dense(512, activation='relu')\n",
    "        self.d5 = tf.keras.layers.Dense(num_actions)\n",
    "\n",
    "    def call(self, x):\n",
    "        output = self.d1(x)\n",
    "        output = self.d2(output)\n",
    "        output = self.d3(output)\n",
    "        output = self.d4(output)\n",
    "        output = self.d5(output)\n",
    "        return output\n",
    "\n",
    "(d,) = env.observation_space.shape\n",
    "model = Behavior(input_shape=(d+2,), num_actions=1)\n",
    "model.run_eagerly = True\n",
    "optimizer = tf.keras.optimizers.Adam()\n",
    "loss_object = tf.keras.losses.BinaryCrossentropy(from_logits=True)"
   ]
  },
  {
   "cell_type": "code",
   "execution_count": 28,
   "metadata": {},
   "outputs": [],
   "source": [
    "batch_size = 1024"
   ]
  },
  {
   "cell_type": "code",
   "execution_count": 29,
   "metadata": {},
   "outputs": [],
   "source": [
    "### A1-3: while stopping criteria is not reached do:\n",
    "### A1-4:   Improve the behavior function by training on replay buffer"
   ]
  },
  {
   "cell_type": "code",
   "execution_count": 37,
   "metadata": {},
   "outputs": [],
   "source": [
    "def to_training(s, dr, dh):\n",
    "    l = s.tolist()\n",
    "    l.append(dr)\n",
    "    l.append(dh)\n",
    "    return np.array(l)\n",
    "\n",
    "def segments_to_training(segments):\n",
    "    x = []\n",
    "    y = []\n",
    "    for (s, dr, dh), action in segments:\n",
    "        l = to_training(s, dr, dh)\n",
    "        x.append(l)\n",
    "        y.append(action)\n",
    "        \n",
    "    x = tf.constant(x, dtype=tf.float32)\n",
    "    y = tf.constant(y, dtype=tf.float32)\n",
    "    return x, y\n",
    "\n",
    "def train_step(inputs, targets):\n",
    "    with tf.GradientTape() as tape:\n",
    "        predictions = model(inputs)\n",
    "        \n",
    "        targets = tf.expand_dims(targets, axis=-1)\n",
    "\n",
    "        loss = loss_object(y_true=targets, y_pred=predictions)\n",
    "        \n",
    "    gradients = tape.gradient(loss, model.trainable_variables)\n",
    "    optimizer.apply_gradients(zip(gradients, model.trainable_variables))\n",
    "\n",
    "    return loss\n",
    "\n",
    "def generate_episode(cmd, render=False, add_to_replay_buffer=True):\n",
    "    s = env.reset()\n",
    "    done = False\n",
    "    ep_reward = 0.0\n",
    "    \n",
    "    t = Trajectory()\n",
    "    while not done:\n",
    "        (dh, dr) = cmd\n",
    "        inputs = tf.constant([to_training(s, dr, dh)], dtype=tf.float32)\n",
    "        \n",
    "        action_probs = model(inputs)\n",
    "        action_probs = tf.keras.activations.sigmoid(action_probs)\n",
    "        m = tfp.distributions.Bernoulli(probs=action_probs)\n",
    "        action = int(tf.squeeze(m.sample(), axis=0).numpy())\n",
    "        if render:\n",
    "            env.render()\n",
    "        s_old = s\n",
    "        \n",
    "        s, reward, done, info = env.step(action)\n",
    "        t.add(s_old, action, reward, s)\n",
    "        \n",
    "        ep_reward += reward\n",
    "        dh = dh - 1\n",
    "        dr = dr - reward\n",
    "        cmd = (dh, dr)\n",
    "    \n",
    "    # print(f'Episode reward: {ep_reward}')\n",
    "    if add_to_replay_buffer:\n",
    "        rb.add(t)\n",
    "    if render:\n",
    "        env.close()\n",
    "    return ep_reward"
   ]
  },
  {
   "cell_type": "code",
   "execution_count": null,
   "metadata": {},
   "outputs": [],
   "source": [
    "loss_m = tf.keras.metrics.Mean(name='loss')\n",
    "start = time.time()\n",
    "\n",
    "epochs = 1000000\n",
    "for i in range(1, epochs+1):\n",
    "    segments = rb.sample(batch_size)\n",
    "    x, y = segments_to_training(segments)\n",
    "    loss = train_step(x, y)\n",
    "    loss_m(loss)\n",
    "    \n",
    "    if i % 1000 == 0:\n",
    "        rewards = [] \n",
    "        for e in range(100):\n",
    "            cmd = rb.sample_command()\n",
    "            rewards.append(generate_episode(cmd))\n",
    "        \n",
    "        print(f\"Average Episode Reward: {np.mean(rewards)}\")\n",
    "    \n",
    "    if i % 200 == 0:\n",
    "        time_per_epoch = (time.time() - start) / 200.0\n",
    "        start = time.time()\n",
    "        print(f'i: {i:5}\\tLoss: {loss_m.result():.10}\\tTime/epoch: {time_per_epoch:.4}')\n",
    "        "
   ]
  },
  {
   "cell_type": "code",
   "execution_count": 32,
   "metadata": {},
   "outputs": [
    {
     "data": {
      "text/plain": [
       "(87.53, 92.87518979966934)"
      ]
     },
     "execution_count": 32,
     "metadata": {},
     "output_type": "execute_result"
    }
   ],
   "source": [
    "### A1:5 Sample exploratory commands based on replay buffer\n",
    "cmd = rb.sample_command()\n",
    "cmd"
   ]
  },
  {
   "cell_type": "code",
   "execution_count": 33,
   "metadata": {},
   "outputs": [],
   "source": [
    "## A1:6 Generate episodes using Alg 2 and add to replay buffer"
   ]
  },
  {
   "cell_type": "code",
   "execution_count": 38,
   "metadata": {},
   "outputs": [
    {
     "name": "stdout",
     "output_type": "stream",
     "text": [
      "Average Episode Reward: 72.5\n"
     ]
    }
   ],
   "source": [
    "avg_rewards = []\n",
    "\n",
    "\n",
    "\n",
    "\n",
    "rewards = [] \n",
    "for e in range(10):\n",
    "    rewards.append(generate_episode(cmd, render=True, add_to_replay_buffer=False))\n",
    "\n",
    "\n",
    "print(f\"Average Episode Reward: {np.mean(rewards)}\")"
   ]
  },
  {
   "cell_type": "code",
   "execution_count": 15,
   "metadata": {},
   "outputs": [],
   "source": []
  },
  {
   "cell_type": "code",
   "execution_count": 12,
   "metadata": {},
   "outputs": [
    {
     "name": "stdout",
     "output_type": "stream",
     "text": [
      "Model: \"behavior\"\n",
      "_________________________________________________________________\n",
      "Layer (type)                 Output Shape              Param #   \n",
      "=================================================================\n",
      "dense (Dense)                multiple                  3584      \n",
      "_________________________________________________________________\n",
      "dense_1 (Dense)              multiple                  262656    \n",
      "_________________________________________________________________\n",
      "dense_2 (Dense)              multiple                  262656    \n",
      "_________________________________________________________________\n",
      "dense_3 (Dense)              multiple                  262656    \n",
      "_________________________________________________________________\n",
      "dense_4 (Dense)              multiple                  513       \n",
      "=================================================================\n",
      "Total params: 792,065\n",
      "Trainable params: 792,065\n",
      "Non-trainable params: 0\n",
      "_________________________________________________________________\n"
     ]
    }
   ],
   "source": [
    "model.summary()"
   ]
  },
  {
   "cell_type": "code",
   "execution_count": null,
   "metadata": {},
   "outputs": [],
   "source": []
  }
 ],
 "metadata": {
  "kernelspec": {
   "display_name": "Python 3",
   "language": "python",
   "name": "python3"
  },
  "language_info": {
   "codemirror_mode": {
    "name": "ipython",
    "version": 3
   },
   "file_extension": ".py",
   "mimetype": "text/x-python",
   "name": "python",
   "nbconvert_exporter": "python",
   "pygments_lexer": "ipython3",
   "version": "3.7.3"
  }
 },
 "nbformat": 4,
 "nbformat_minor": 4
}
