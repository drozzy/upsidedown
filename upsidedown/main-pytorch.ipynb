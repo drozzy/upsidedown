{
 "cells": [
  {
   "cell_type": "code",
   "execution_count": 1,
   "metadata": {},
   "outputs": [],
   "source": [
    "%load_ext autoreload\n",
    "%autoreload 2\n",
    "import gym\n",
    "import os\n",
    "import numpy as np\n",
    "import random\n",
    "import torch\n",
    "from experiment import rollout, ReplayBuffer, Trajectory, segments_to_training, load_model, save_model\n",
    "device = torch.device(\"cuda:0\" if torch.cuda.is_available() else \"cpu\")"
   ]
  },
  {
   "cell_type": "code",
   "execution_count": 2,
   "metadata": {},
   "outputs": [],
   "source": [
    "env = gym.make('CartPole-v1')"
   ]
  },
  {
   "cell_type": "code",
   "execution_count": 3,
   "metadata": {},
   "outputs": [
    {
     "name": "stdout",
     "output_type": "stream",
     "text": [
      "Average Episode Reward: 23.115\n"
     ]
    }
   ],
   "source": [
    "rb = ReplayBuffer(max_size=500, last_few=200)\n",
    "\n",
    "# Random rollout\n",
    "trajectories, avg_reward = rollout(episodes=1000, env=env, render=False)\n",
    "rb.add(trajectories)\n",
    "\n",
    "print(f\"Average Episode Reward: {avg_reward}\")"
   ]
  },
  {
   "cell_type": "code",
   "execution_count": 4,
   "metadata": {},
   "outputs": [],
   "source": [
    "loss_object = torch.nn.BCEWithLogitsLoss().to(device)"
   ]
  },
  {
   "cell_type": "code",
   "execution_count": 5,
   "metadata": {},
   "outputs": [],
   "source": [
    "batch_size = 1024"
   ]
  },
  {
   "cell_type": "code",
   "execution_count": 6,
   "metadata": {},
   "outputs": [],
   "source": [
    "def train_step(inputs, targets):\n",
    "    optimizer.zero_grad()    \n",
    "    predictions = model(inputs)\n",
    "    loss = loss_object(predictions, targets.unsqueeze(1))\n",
    "    \n",
    "    loss.backward()\n",
    "    optimizer.step()\n",
    "    \n",
    "    return loss"
   ]
  },
  {
   "cell_type": "code",
   "execution_count": 7,
   "metadata": {},
   "outputs": [],
   "source": [
    "loss_sum = 0\n",
    "loss_count = 0"
   ]
  },
  {
   "cell_type": "code",
   "execution_count": null,
   "metadata": {},
   "outputs": [
    {
     "name": "stdout",
     "output_type": "stream",
     "text": [
      "Average Episode Reward: 9.41\n",
      "i: 0, Loss: 0.693107008934021\n",
      "Average Episode Reward: 29.14\n",
      "Average Episode Reward: 37.0\n",
      "i: 200, Loss: 0.68612140417099\n",
      "Average Episode Reward: 36.49\n",
      "Average Episode Reward: 34.23\n",
      "i: 400, Loss: 0.6777036786079407\n",
      "Average Episode Reward: 45.34\n",
      "Average Episode Reward: 47.23\n",
      "i: 600, Loss: 0.6718940138816833\n",
      "Average Episode Reward: 64.29\n",
      "Average Episode Reward: 70.2\n",
      "i: 800, Loss: 0.6672784686088562\n",
      "Average Episode Reward: 52.95\n",
      "Average Episode Reward: 71.81\n",
      "i: 1000, Loss: 0.6633278131484985\n",
      "Average Episode Reward: 69.15\n",
      "Average Episode Reward: 75.11\n",
      "i: 1200, Loss: 0.6597281694412231\n",
      "Average Episode Reward: 45.02\n",
      "Average Episode Reward: 76.02\n",
      "i: 1400, Loss: 0.6560639142990112\n",
      "Average Episode Reward: 66.71\n",
      "Average Episode Reward: 25.27\n",
      "i: 1600, Loss: 0.6528140306472778\n",
      "Average Episode Reward: 64.51\n",
      "Average Episode Reward: 84.58\n",
      "i: 1800, Loss: 0.6500992178916931\n",
      "Average Episode Reward: 67.34\n",
      "Average Episode Reward: 104.93\n",
      "i: 2000, Loss: 0.6474925875663757\n",
      "Average Episode Reward: 67.83\n",
      "Average Episode Reward: 60.34\n",
      "i: 2200, Loss: 0.6447845101356506\n",
      "Average Episode Reward: 32.57\n",
      "Average Episode Reward: 72.11\n",
      "i: 2400, Loss: 0.6422598361968994\n",
      "Average Episode Reward: 81.85\n",
      "Average Episode Reward: 86.49\n",
      "i: 2600, Loss: 0.6399374008178711\n",
      "Average Episode Reward: 59.07\n",
      "Average Episode Reward: 113.49\n",
      "i: 2800, Loss: 0.6380320191383362\n",
      "Average Episode Reward: 73.23\n",
      "Average Episode Reward: 107.82\n",
      "i: 3000, Loss: 0.6363739967346191\n",
      "Average Episode Reward: 78.54\n",
      "Average Episode Reward: 100.08\n",
      "i: 3200, Loss: 0.6348046064376831\n",
      "Average Episode Reward: 111.08\n",
      "Average Episode Reward: 109.71\n",
      "i: 3400, Loss: 0.6334095597267151\n",
      "Average Episode Reward: 54.8\n",
      "Average Episode Reward: 88.36\n",
      "i: 3600, Loss: 0.6321482062339783\n",
      "Average Episode Reward: 110.24\n",
      "Average Episode Reward: 52.4\n",
      "i: 3800, Loss: 0.6310825943946838\n",
      "Average Episode Reward: 53.56\n",
      "Average Episode Reward: 97.59\n",
      "i: 4000, Loss: 0.630112886428833\n",
      "Average Episode Reward: 103.04\n",
      "Average Episode Reward: 92.45\n",
      "i: 4200, Loss: 0.6291130781173706\n",
      "Average Episode Reward: 124.08\n",
      "Average Episode Reward: 74.31\n",
      "i: 4400, Loss: 0.6282415390014648\n",
      "Average Episode Reward: 79.46\n",
      "Average Episode Reward: 109.63\n",
      "i: 4600, Loss: 0.6274757981300354\n",
      "Average Episode Reward: 84.77\n",
      "Average Episode Reward: 87.7\n",
      "i: 4800, Loss: 0.6267778277397156\n",
      "Average Episode Reward: 74.34\n",
      "Average Episode Reward: 103.2\n",
      "i: 5000, Loss: 0.6260985732078552\n",
      "Average Episode Reward: 121.09\n",
      "Average Episode Reward: 121.29\n",
      "i: 5200, Loss: 0.6254826784133911\n",
      "Average Episode Reward: 74.53\n",
      "Average Episode Reward: 106.5\n",
      "i: 5400, Loss: 0.6249280571937561\n",
      "Average Episode Reward: 62.66\n",
      "Average Episode Reward: 104.75\n",
      "i: 5600, Loss: 0.6244874596595764\n",
      "Average Episode Reward: 49.85\n",
      "Average Episode Reward: 131.23\n",
      "i: 5800, Loss: 0.6240987777709961\n",
      "Average Episode Reward: 146.22\n",
      "Average Episode Reward: 112.32\n",
      "i: 6000, Loss: 0.6237134337425232\n",
      "Average Episode Reward: 154.07\n",
      "Average Episode Reward: 73.2\n",
      "i: 6200, Loss: 0.6233565807342529\n",
      "Average Episode Reward: 75.56\n",
      "Average Episode Reward: 160.2\n",
      "i: 6400, Loss: 0.6229921579360962\n",
      "Average Episode Reward: 89.37\n",
      "Average Episode Reward: 91.46\n",
      "i: 6600, Loss: 0.6226138472557068\n",
      "Average Episode Reward: 119.46\n",
      "Average Episode Reward: 62.48\n",
      "i: 6800, Loss: 0.6222971081733704\n",
      "Average Episode Reward: 113.5\n",
      "Average Episode Reward: 133.67\n",
      "i: 7000, Loss: 0.6219580769538879\n",
      "Average Episode Reward: 74.25\n",
      "Average Episode Reward: 135.95\n",
      "i: 7200, Loss: 0.6216469407081604\n"
     ]
    }
   ],
   "source": [
    "epochs = 1000000\n",
    "epoch, model, optimizer, loss = load_model(env, device, train=True)\n",
    "\n",
    "for i in range(epoch, epochs+epoch):\n",
    "    x, y = rb.sample(batch_size, device)    \n",
    "    loss = train_step(x, y)\n",
    "    loss_sum += loss\n",
    "    loss_count += 1\n",
    "    \n",
    "    if i % 100 == 0:        \n",
    "        trajectories, mean_reward = rollout(100, env=env, model=model, sample_action=True, replay_buffer=rb, \n",
    "                              device=device)\n",
    "        rb.add(trajectories)\n",
    "        \n",
    "        print(f\"Average Episode Reward: {mean_reward}\")        \n",
    "\n",
    "    if i % 200 == 0:\n",
    "        print(f'i: {i}, Loss: {loss_sum/loss_count}') #'\\t Accuracy: {accuracy_m.result()}')\n",
    "        save_model(i, model, optimizer, loss)"
   ]
  },
  {
   "cell_type": "code",
   "execution_count": 4,
   "metadata": {},
   "outputs": [
    {
     "data": {
      "text/plain": [
       "(39.79, 45.35741021617225)"
      ]
     },
     "execution_count": 4,
     "metadata": {},
     "output_type": "execute_result"
    }
   ],
   "source": [
    "rb.sample_command()"
   ]
  },
  {
   "cell_type": "code",
   "execution_count": 6,
   "metadata": {},
   "outputs": [
    {
     "name": "stdout",
     "output_type": "stream",
     "text": [
      "Loaded model at epoch: 25800 with loss 0.5767240524291992\n",
      "Average Episode Reward: 48.666666666666664\n"
     ]
    }
   ],
   "source": [
    "cmd = (500, 500) #rb.sample_command()\n",
    "env = gym.make('CartPole-v1')\n",
    "e, model, _, l = load_model(train=False, env=env, device=device)\n",
    "print(f\"Loaded model at epoch: {e} with loss {l}\")\n",
    "_, mean_reward = rollout(episodes=3, env=env, model=model, sample_action=True, \n",
    "                      replay_buffer=rb, render=True, device=device)\n",
    "\n",
    "\n",
    "print(f\"Average Episode Reward: {mean_reward}\")"
   ]
  },
  {
   "cell_type": "code",
   "execution_count": null,
   "metadata": {},
   "outputs": [],
   "source": []
  }
 ],
 "metadata": {
  "kernelspec": {
   "display_name": "Python 3",
   "language": "python",
   "name": "python3"
  },
  "language_info": {
   "codemirror_mode": {
    "name": "ipython",
    "version": 3
   },
   "file_extension": ".py",
   "mimetype": "text/x-python",
   "name": "python",
   "nbconvert_exporter": "python",
   "pygments_lexer": "ipython3",
   "version": "3.7.3"
  }
 },
 "nbformat": 4,
 "nbformat_minor": 4
}
