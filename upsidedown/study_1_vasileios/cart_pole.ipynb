{
 "cells": [
  {
   "cell_type": "code",
   "execution_count": 32,
   "metadata": {},
   "outputs": [
    {
     "name": "stdout",
     "output_type": "stream",
     "text": [
      "The autoreload extension is already loaded. To reload it, use:\n",
      "  %reload_ext autoreload\n"
     ]
    }
   ],
   "source": [
    "%load_ext autoreload\n",
    "%autoreload 2\n",
    "import gym\n",
    "import os\n",
    "import numpy as np\n",
    "import random\n",
    "import torch\n",
    "from experiment import rollout, ReplayBuffer, Trajectory, load_model, save_model, Behavior\n",
    "device = torch.device(\"cuda:0\" if torch.cuda.is_available() else \"cpu\")"
   ]
  },
  {
   "cell_type": "code",
   "execution_count": 33,
   "metadata": {},
   "outputs": [],
   "source": [
    "env = gym.make('CartPole-v1')"
   ]
  },
  {
   "cell_type": "code",
   "execution_count": 34,
   "metadata": {},
   "outputs": [
    {
     "name": "stdout",
     "output_type": "stream",
     "text": [
      "Average Episode Reward: 22.312\n"
     ]
    }
   ],
   "source": [
    "rb = ReplayBuffer(max_size=500, last_few=200)\n",
    "\n",
    "# Random rollout\n",
    "trajectories, avg_reward = rollout(episodes=1000, env=env, render=False)\n",
    "rb.add(trajectories)\n",
    "\n",
    "print(f\"Average Episode Reward: {avg_reward}\")"
   ]
  },
  {
   "cell_type": "code",
   "execution_count": 35,
   "metadata": {},
   "outputs": [],
   "source": [
    "loss_object = torch.nn.BCEWithLogitsLoss().to(device)\n",
    "\n",
    "d = env.observation_space.shape[0]\n",
    "    \n",
    "model = Behavior(input_shape=d+2, num_actions=1).to(device)\n",
    "optimizer = torch.optim.Adam(model.parameters())"
   ]
  },
  {
   "cell_type": "code",
   "execution_count": 36,
   "metadata": {},
   "outputs": [],
   "source": [
    "batch_size = 1024"
   ]
  },
  {
   "cell_type": "code",
   "execution_count": 44,
   "metadata": {},
   "outputs": [],
   "source": [
    "def train_step(inputs, targets):\n",
    "    optimizer.zero_grad()    \n",
    "    predictions = model(inputs)\n",
    "    targets = targets.float()\n",
    "    loss = loss_object(predictions, targets.unsqueeze(1))\n",
    "    \n",
    "    loss.backward()\n",
    "    optimizer.step()\n",
    "    \n",
    "    return loss\n",
    "\n",
    "def action_fn(model, inputs, sample_action=True):\n",
    "    action_probs = model(inputs)\n",
    "    action_probs = torch.sigmoid(action_probs)\n",
    "\n",
    "    if sample_action:\n",
    "        m = torch.distributions.bernoulli.Bernoulli(probs=action_probs)            \n",
    "        action = int(m.sample().squeeze().cpu().numpy())\n",
    "    else:\n",
    "        action = int(np.round(action_probs.detach().squeeze().numpy()))\n",
    "    return action\n",
    "    "
   ]
  },
  {
   "cell_type": "code",
   "execution_count": 45,
   "metadata": {},
   "outputs": [],
   "source": [
    "loss_sum = 0\n",
    "loss_count = 0"
   ]
  },
  {
   "cell_type": "code",
   "execution_count": null,
   "metadata": {},
   "outputs": [],
   "source": [
    "epochs = 1000000\n",
    "epoch, model, optimizer, loss = load_model('cart_pole', model, optimizer, device, train=True)\n",
    "\n",
    "for i in range(epoch, epochs+epoch):\n",
    "    x, y = rb.sample(batch_size, device)    \n",
    "    loss = train_step(x, y)\n",
    "    loss_sum += loss\n",
    "    loss_count += 1\n",
    "    \n",
    "    if i % 100 == 0:        \n",
    "        trajectories, mean_reward = rollout(100, env=env, model=model, sample_action=True, replay_buffer=rb, \n",
    "                              device=device, action_fn=action_fn)\n",
    "        rb.add(trajectories)\n",
    "        \n",
    "        print(f\"Average Episode Reward: {mean_reward}\")        \n",
    "\n",
    "    if i % 200 == 0:\n",
    "        print(f'i: {i}, Loss: {loss_sum/loss_count}') #'\\t Accuracy: {accuracy_m.result()}')\n",
    "        save_model('cart_pole', i, model, optimizer, loss)"
   ]
  },
  {
   "cell_type": "code",
   "execution_count": 48,
   "metadata": {},
   "outputs": [
    {
     "data": {
      "text/plain": [
       "(51.115, 59.018343913480535)"
      ]
     },
     "execution_count": 48,
     "metadata": {},
     "output_type": "execute_result"
    }
   ],
   "source": [
    "rb.sample_command()"
   ]
  },
  {
   "cell_type": "code",
   "execution_count": 52,
   "metadata": {},
   "outputs": [
    {
     "name": "stdout",
     "output_type": "stream",
     "text": [
      "Existing model found. Loading.\n",
      "Loaded model at epoch: 400 with loss 0.6721066832542419\n",
      "Average Episode Reward: 52.333333333333336\n"
     ]
    }
   ],
   "source": [
    "cmd = (500, 500) #rb.sample_command()\n",
    "env = gym.make('CartPole-v1')\n",
    "e, model, _, l = load_model('cart_pole', train=False, model=model, optimizer=optimizer, device=device)\n",
    "print(f\"Loaded model at epoch: {e} with loss {l}\")\n",
    "_, mean_reward = rollout(episodes=3, env=env, model=model, sample_action=False, \n",
    "                      replay_buffer=rb, render=True, device=device, action_fn=action_fn)\n",
    "\n",
    "\n",
    "print(f\"Average Episode Reward: {mean_reward}\")"
   ]
  },
  {
   "cell_type": "code",
   "execution_count": null,
   "metadata": {},
   "outputs": [],
   "source": []
  }
 ],
 "metadata": {
  "kernelspec": {
   "display_name": "Python 3",
   "language": "python",
   "name": "python3"
  },
  "language_info": {
   "codemirror_mode": {
    "name": "ipython",
    "version": 3
   },
   "file_extension": ".py",
   "mimetype": "text/x-python",
   "name": "python",
   "nbconvert_exporter": "python",
   "pygments_lexer": "ipython3",
   "version": "3.7.3"
  }
 },
 "nbformat": 4,
 "nbformat_minor": 4
}
